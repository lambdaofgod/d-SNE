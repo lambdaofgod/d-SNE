{
 "cells": [
  {
   "cell_type": "markdown",
   "metadata": {},
   "source": [
    "# Results"
   ]
  },
  {
   "cell_type": "code",
   "execution_count": 1,
   "metadata": {},
   "outputs": [],
   "source": [
    "import pandas as pd\n",
    "import numpy as np"
   ]
  },
  {
   "cell_type": "code",
   "execution_count": 2,
   "metadata": {},
   "outputs": [],
   "source": [
    "df_train_data = pd.read_csv('log/train_data.csv', index_col=0)"
   ]
  },
  {
   "cell_type": "code",
   "execution_count": 3,
   "metadata": {},
   "outputs": [],
   "source": [
    "df_meta_data = pd.read_csv('log/meta_data.csv', index_col=0)"
   ]
  },
  {
   "cell_type": "code",
   "execution_count": 4,
   "metadata": {},
   "outputs": [
    {
     "data": {
      "text/html": [
       "<div>\n",
       "<style scoped>\n",
       "    .dataframe tbody tr th:only-of-type {\n",
       "        vertical-align: middle;\n",
       "    }\n",
       "\n",
       "    .dataframe tbody tr th {\n",
       "        vertical-align: top;\n",
       "    }\n",
       "\n",
       "    .dataframe thead th {\n",
       "        text-align: right;\n",
       "    }\n",
       "</style>\n",
       "<table border=\"1\" class=\"dataframe\">\n",
       "  <thead>\n",
       "    <tr style=\"text-align: right;\">\n",
       "      <th></th>\n",
       "      <th>log_id</th>\n",
       "      <th>timestamp</th>\n",
       "      <th>epoch</th>\n",
       "      <th>metric_key</th>\n",
       "      <th>metric_val</th>\n",
       "    </tr>\n",
       "  </thead>\n",
       "  <tbody>\n",
       "    <tr>\n",
       "      <th>0</th>\n",
       "      <td>dsne-s1-0.25_2020-02-20-18-46-15-234462</td>\n",
       "      <td>2020-02-20 18:41:36,379</td>\n",
       "      <td>1</td>\n",
       "      <td>Train-XEnt-Src</td>\n",
       "      <td>2.303372</td>\n",
       "    </tr>\n",
       "    <tr>\n",
       "      <th>1</th>\n",
       "      <td>dsne-s1-0.25_2020-02-20-18-46-15-234462</td>\n",
       "      <td>2020-02-20 18:41:36,379</td>\n",
       "      <td>1</td>\n",
       "      <td>Train-Aux-Src</td>\n",
       "      <td>1.065297</td>\n",
       "    </tr>\n",
       "    <tr>\n",
       "      <th>2</th>\n",
       "      <td>dsne-s1-0.25_2020-02-20-18-46-15-234462</td>\n",
       "      <td>2020-02-20 18:41:36,379</td>\n",
       "      <td>1</td>\n",
       "      <td>Train-Total-Src</td>\n",
       "      <td>1.993854</td>\n",
       "    </tr>\n",
       "    <tr>\n",
       "      <th>3</th>\n",
       "      <td>dsne-s1-0.25_2020-02-20-18-46-15-234462</td>\n",
       "      <td>2020-02-20 18:41:36,380</td>\n",
       "      <td>1</td>\n",
       "      <td>Train-Acc-Src</td>\n",
       "      <td>0.097500</td>\n",
       "    </tr>\n",
       "    <tr>\n",
       "      <th>4</th>\n",
       "      <td>dsne-s1-0.25_2020-02-20-18-46-15-234462</td>\n",
       "      <td>2020-02-20 18:41:36,380</td>\n",
       "      <td>1</td>\n",
       "      <td>Train-XEnt-Tgt</td>\n",
       "      <td>2.306082</td>\n",
       "    </tr>\n",
       "  </tbody>\n",
       "</table>\n",
       "</div>"
      ],
      "text/plain": [
       "                                    log_id                timestamp  epoch  \\\n",
       "0  dsne-s1-0.25_2020-02-20-18-46-15-234462  2020-02-20 18:41:36,379      1   \n",
       "1  dsne-s1-0.25_2020-02-20-18-46-15-234462  2020-02-20 18:41:36,379      1   \n",
       "2  dsne-s1-0.25_2020-02-20-18-46-15-234462  2020-02-20 18:41:36,379      1   \n",
       "3  dsne-s1-0.25_2020-02-20-18-46-15-234462  2020-02-20 18:41:36,380      1   \n",
       "4  dsne-s1-0.25_2020-02-20-18-46-15-234462  2020-02-20 18:41:36,380      1   \n",
       "\n",
       "        metric_key  metric_val  \n",
       "0   Train-XEnt-Src    2.303372  \n",
       "1    Train-Aux-Src    1.065297  \n",
       "2  Train-Total-Src    1.993854  \n",
       "3    Train-Acc-Src    0.097500  \n",
       "4   Train-XEnt-Tgt    2.306082  "
      ]
     },
     "execution_count": 4,
     "metadata": {},
     "output_type": "execute_result"
    }
   ],
   "source": [
    "df_train_data.head()"
   ]
  },
  {
   "cell_type": "code",
   "execution_count": 5,
   "metadata": {},
   "outputs": [],
   "source": [
    "df_full_data = df_train_data.set_index('log_id').join(df_meta_data.set_index('log_id'))"
   ]
  },
  {
   "cell_type": "code",
   "execution_count": 6,
   "metadata": {},
   "outputs": [
    {
     "data": {
      "text/plain": [
       "Index(['timestamp', 'epoch', 'metric_key', 'metric_val', 'log', 'gpus',\n",
       "       'mxboard', 'postfix', 'log_itv', 'method', 'cfg', 'src', 'tgt', 'nc',\n",
       "       'size', 'bb', 'nlayers', 'dropout', 'inn', 'bn', 'embed_size',\n",
       "       'pretrained', 'model_path', 'start_epoch', 'end_epoch', 'seed',\n",
       "       'train_src', 'hybridize', 'best_value', 'alpha', 'training', 'plot',\n",
       "       'l2n', 'fn', 'angular', 'aug_tgt_only', 'eval', 'eval_epoch', 'bs',\n",
       "       'resize', 'mean', 'std', 'color_jitter', 'flip', 'random_crop',\n",
       "       'random_color', 'ratio', 'optim', 'lr', 'lr_epochs', 'lr_factor', 'wd',\n",
       "       'mom', 'margin', 'save_preds', 'ctx'],\n",
       "      dtype='object')"
      ]
     },
     "execution_count": 6,
     "metadata": {},
     "output_type": "execute_result"
    }
   ],
   "source": [
    "df_full_data.columns"
   ]
  },
  {
   "cell_type": "code",
   "execution_count": 7,
   "metadata": {},
   "outputs": [],
   "source": [
    "df_dsne = df_full_data[df_full_data.method == 'dsne']"
   ]
  },
  {
   "cell_type": "code",
   "execution_count": 8,
   "metadata": {},
   "outputs": [],
   "source": [
    "df_dsne_acc = df_dsne[df_dsne.metric_key == 'Train-Acc-Tgt']"
   ]
  },
  {
   "cell_type": "code",
   "execution_count": 9,
   "metadata": {},
   "outputs": [
    {
     "data": {
      "text/html": [
       "<div>\n",
       "<style scoped>\n",
       "    .dataframe tbody tr th:only-of-type {\n",
       "        vertical-align: middle;\n",
       "    }\n",
       "\n",
       "    .dataframe tbody tr th {\n",
       "        vertical-align: top;\n",
       "    }\n",
       "\n",
       "    .dataframe thead th {\n",
       "        text-align: right;\n",
       "    }\n",
       "</style>\n",
       "<table border=\"1\" class=\"dataframe\">\n",
       "  <thead>\n",
       "    <tr style=\"text-align: right;\">\n",
       "      <th></th>\n",
       "      <th>bb</th>\n",
       "      <th>cfg</th>\n",
       "      <th>metric_key</th>\n",
       "      <th>metric_val</th>\n",
       "      <th>epoch</th>\n",
       "    </tr>\n",
       "    <tr>\n",
       "      <th>log_id</th>\n",
       "      <th></th>\n",
       "      <th></th>\n",
       "      <th></th>\n",
       "      <th></th>\n",
       "      <th></th>\n",
       "    </tr>\n",
       "  </thead>\n",
       "  <tbody>\n",
       "    <tr>\n",
       "      <th>dsne-s7-0.5-l2n-0_2020-02-21-09-53-26-258001</th>\n",
       "      <td>lenetplus</td>\n",
       "      <td>cfg/digits-s-7.json</td>\n",
       "      <td>Train-Acc-Tgt</td>\n",
       "      <td>0.975411</td>\n",
       "      <td>90</td>\n",
       "    </tr>\n",
       "    <tr>\n",
       "      <th>dsne-s5-0.5-l2n-0_2020-02-21-08-52-58-483208</th>\n",
       "      <td>lenetplus</td>\n",
       "      <td>cfg/digits-s-5.json</td>\n",
       "      <td>Train-Acc-Tgt</td>\n",
       "      <td>0.975275</td>\n",
       "      <td>97</td>\n",
       "    </tr>\n",
       "    <tr>\n",
       "      <th>dsne-s7-0.5-l2n-0_2020-02-21-09-53-26-258001</th>\n",
       "      <td>lenetplus</td>\n",
       "      <td>cfg/digits-s-7.json</td>\n",
       "      <td>Train-Acc-Tgt</td>\n",
       "      <td>0.973607</td>\n",
       "      <td>79</td>\n",
       "    </tr>\n",
       "    <tr>\n",
       "      <th>dsne-s7-0.5-l2n-0_2020-02-21-09-53-26-258001</th>\n",
       "      <td>lenetplus</td>\n",
       "      <td>cfg/digits-s-7.json</td>\n",
       "      <td>Train-Acc-Tgt</td>\n",
       "      <td>0.973286</td>\n",
       "      <td>89</td>\n",
       "    </tr>\n",
       "    <tr>\n",
       "      <th>dsne-s7-0.5-l2n-0_2020-02-21-09-53-26-258001</th>\n",
       "      <td>lenetplus</td>\n",
       "      <td>cfg/digits-s-7.json</td>\n",
       "      <td>Train-Acc-Tgt</td>\n",
       "      <td>0.973250</td>\n",
       "      <td>92</td>\n",
       "    </tr>\n",
       "    <tr>\n",
       "      <th>...</th>\n",
       "      <td>...</td>\n",
       "      <td>...</td>\n",
       "      <td>...</td>\n",
       "      <td>...</td>\n",
       "      <td>...</td>\n",
       "    </tr>\n",
       "    <tr>\n",
       "      <th>dsne-s1-0.75_2020-02-20-16-22-44-388162</th>\n",
       "      <td>lenetplus</td>\n",
       "      <td>cfg/digits-s-1.json</td>\n",
       "      <td>Train-Acc-Tgt</td>\n",
       "      <td>0.090000</td>\n",
       "      <td>22</td>\n",
       "    </tr>\n",
       "    <tr>\n",
       "      <th>dsne-s1-0.5-2_2020-02-20-21-01-02-830575</th>\n",
       "      <td>lenetplus</td>\n",
       "      <td>cfg/digits-s-1.json</td>\n",
       "      <td>Train-Acc-Tgt</td>\n",
       "      <td>0.088750</td>\n",
       "      <td>36</td>\n",
       "    </tr>\n",
       "    <tr>\n",
       "      <th>dsne-s1-0.5-0_2020-02-20-17-36-33-010839</th>\n",
       "      <td>lenetplus</td>\n",
       "      <td>cfg/digits-s-1.json</td>\n",
       "      <td>Train-Acc-Tgt</td>\n",
       "      <td>0.088000</td>\n",
       "      <td>29</td>\n",
       "    </tr>\n",
       "    <tr>\n",
       "      <th>dsne-s1-0.5-2_2020-02-20-21-01-02-830575</th>\n",
       "      <td>lenetplus</td>\n",
       "      <td>cfg/digits-s-1.json</td>\n",
       "      <td>Train-Acc-Tgt</td>\n",
       "      <td>0.088000</td>\n",
       "      <td>8</td>\n",
       "    </tr>\n",
       "    <tr>\n",
       "      <th>dsne-s1-0.5-2_2020-02-20-21-01-02-830575</th>\n",
       "      <td>lenetplus</td>\n",
       "      <td>cfg/digits-s-1.json</td>\n",
       "      <td>Train-Acc-Tgt</td>\n",
       "      <td>0.086000</td>\n",
       "      <td>31</td>\n",
       "    </tr>\n",
       "  </tbody>\n",
       "</table>\n",
       "<p>1347 rows × 5 columns</p>\n",
       "</div>"
      ],
      "text/plain": [
       "                                                     bb                  cfg  \\\n",
       "log_id                                                                         \n",
       "dsne-s7-0.5-l2n-0_2020-02-21-09-53-26-258001  lenetplus  cfg/digits-s-7.json   \n",
       "dsne-s5-0.5-l2n-0_2020-02-21-08-52-58-483208  lenetplus  cfg/digits-s-5.json   \n",
       "dsne-s7-0.5-l2n-0_2020-02-21-09-53-26-258001  lenetplus  cfg/digits-s-7.json   \n",
       "dsne-s7-0.5-l2n-0_2020-02-21-09-53-26-258001  lenetplus  cfg/digits-s-7.json   \n",
       "dsne-s7-0.5-l2n-0_2020-02-21-09-53-26-258001  lenetplus  cfg/digits-s-7.json   \n",
       "...                                                 ...                  ...   \n",
       "dsne-s1-0.75_2020-02-20-16-22-44-388162       lenetplus  cfg/digits-s-1.json   \n",
       "dsne-s1-0.5-2_2020-02-20-21-01-02-830575      lenetplus  cfg/digits-s-1.json   \n",
       "dsne-s1-0.5-0_2020-02-20-17-36-33-010839      lenetplus  cfg/digits-s-1.json   \n",
       "dsne-s1-0.5-2_2020-02-20-21-01-02-830575      lenetplus  cfg/digits-s-1.json   \n",
       "dsne-s1-0.5-2_2020-02-20-21-01-02-830575      lenetplus  cfg/digits-s-1.json   \n",
       "\n",
       "                                                 metric_key  metric_val  epoch  \n",
       "log_id                                                                          \n",
       "dsne-s7-0.5-l2n-0_2020-02-21-09-53-26-258001  Train-Acc-Tgt    0.975411     90  \n",
       "dsne-s5-0.5-l2n-0_2020-02-21-08-52-58-483208  Train-Acc-Tgt    0.975275     97  \n",
       "dsne-s7-0.5-l2n-0_2020-02-21-09-53-26-258001  Train-Acc-Tgt    0.973607     79  \n",
       "dsne-s7-0.5-l2n-0_2020-02-21-09-53-26-258001  Train-Acc-Tgt    0.973286     89  \n",
       "dsne-s7-0.5-l2n-0_2020-02-21-09-53-26-258001  Train-Acc-Tgt    0.973250     92  \n",
       "...                                                     ...         ...    ...  \n",
       "dsne-s1-0.75_2020-02-20-16-22-44-388162       Train-Acc-Tgt    0.090000     22  \n",
       "dsne-s1-0.5-2_2020-02-20-21-01-02-830575      Train-Acc-Tgt    0.088750     36  \n",
       "dsne-s1-0.5-0_2020-02-20-17-36-33-010839      Train-Acc-Tgt    0.088000     29  \n",
       "dsne-s1-0.5-2_2020-02-20-21-01-02-830575      Train-Acc-Tgt    0.088000      8  \n",
       "dsne-s1-0.5-2_2020-02-20-21-01-02-830575      Train-Acc-Tgt    0.086000     31  \n",
       "\n",
       "[1347 rows x 5 columns]"
      ]
     },
     "execution_count": 9,
     "metadata": {},
     "output_type": "execute_result"
    }
   ],
   "source": [
    "df_dsne_acc[['bb', 'cfg', 'metric_key', 'metric_val', 'epoch']].sort_values(['metric_val'], ascending=False)"
   ]
  },
  {
   "cell_type": "code",
   "execution_count": null,
   "metadata": {},
   "outputs": [],
   "source": []
  }
 ],
 "metadata": {
  "kernelspec": {
   "display_name": "Python 3",
   "language": "python",
   "name": "python3"
  },
  "language_info": {
   "codemirror_mode": {
    "name": "ipython",
    "version": 3
   },
   "file_extension": ".py",
   "mimetype": "text/x-python",
   "name": "python",
   "nbconvert_exporter": "python",
   "pygments_lexer": "ipython3",
   "version": "3.6.9"
  }
 },
 "nbformat": 4,
 "nbformat_minor": 4
}
